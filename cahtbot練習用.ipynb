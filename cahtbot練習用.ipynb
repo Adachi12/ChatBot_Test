{
 "cells": [
  {
   "cell_type": "code",
   "execution_count": 14,
   "metadata": {},
   "outputs": [
    {
     "name": "stdout",
     "output_type": "stream",
     "text": [
      "Requirement already satisfied: streamlit==1.20.0 in c:\\users\\admin\\appdata\\roaming\\python\\python312\\site-packages (1.20.0)\n",
      "Requirement already satisfied: altair<5,>=3.2.0 in c:\\users\\admin\\appdata\\roaming\\python\\python312\\site-packages (from streamlit==1.20.0) (4.2.2)\n",
      "Requirement already satisfied: blinker>=1.0.0 in c:\\users\\admin\\appdata\\roaming\\python\\python312\\site-packages (from streamlit==1.20.0) (1.8.1)\n",
      "Requirement already satisfied: cachetools>=4.0 in c:\\users\\admin\\appdata\\roaming\\python\\python312\\site-packages (from streamlit==1.20.0) (5.3.3)\n",
      "Requirement already satisfied: click>=7.0 in c:\\users\\admin\\appdata\\roaming\\python\\python312\\site-packages (from streamlit==1.20.0) (8.1.7)\n",
      "Requirement already satisfied: importlib-metadata>=1.4 in c:\\users\\admin\\appdata\\roaming\\python\\python312\\site-packages (from streamlit==1.20.0) (7.1.0)\n",
      "Requirement already satisfied: numpy in c:\\python312\\lib\\site-packages (from streamlit==1.20.0) (1.26.4)\n",
      "Requirement already satisfied: packaging>=14.1 in c:\\python312\\lib\\site-packages (from streamlit==1.20.0) (24.0)\n",
      "Requirement already satisfied: pandas<2,>=0.25 in c:\\users\\admin\\appdata\\roaming\\python\\python312\\site-packages (from streamlit==1.20.0) (1.5.3)\n",
      "Requirement already satisfied: pillow>=6.2.0 in c:\\python312\\lib\\site-packages (from streamlit==1.20.0) (10.3.0)\n",
      "Requirement already satisfied: protobuf<4,>=3.12 in c:\\users\\admin\\appdata\\roaming\\python\\python312\\site-packages (from streamlit==1.20.0) (3.20.3)\n",
      "Requirement already satisfied: pyarrow>=4.0 in c:\\users\\admin\\appdata\\roaming\\python\\python312\\site-packages (from streamlit==1.20.0) (16.0.0)\n",
      "Requirement already satisfied: pympler>=0.9 in c:\\users\\admin\\appdata\\roaming\\python\\python312\\site-packages (from streamlit==1.20.0) (1.0.1)\n",
      "Requirement already satisfied: python-dateutil in c:\\python312\\lib\\site-packages (from streamlit==1.20.0) (2.9.0.post0)\n",
      "Requirement already satisfied: requests>=2.4 in c:\\python312\\lib\\site-packages (from streamlit==1.20.0) (2.31.0)\n",
      "Requirement already satisfied: rich>=10.11.0 in c:\\users\\admin\\appdata\\roaming\\python\\python312\\site-packages (from streamlit==1.20.0) (13.7.1)\n",
      "Requirement already satisfied: semver in c:\\users\\admin\\appdata\\roaming\\python\\python312\\site-packages (from streamlit==1.20.0) (3.0.2)\n",
      "Requirement already satisfied: toml in c:\\users\\admin\\appdata\\roaming\\python\\python312\\site-packages (from streamlit==1.20.0) (0.10.2)\n",
      "Requirement already satisfied: typing-extensions>=3.10.0.0 in c:\\users\\admin\\appdata\\roaming\\python\\python312\\site-packages (from streamlit==1.20.0) (4.11.0)\n",
      "Requirement already satisfied: tzlocal>=1.1 in c:\\users\\admin\\appdata\\roaming\\python\\python312\\site-packages (from streamlit==1.20.0) (5.2)\n",
      "Requirement already satisfied: validators>=0.2 in c:\\users\\admin\\appdata\\roaming\\python\\python312\\site-packages (from streamlit==1.20.0) (0.28.1)\n",
      "Requirement already satisfied: gitpython!=3.1.19 in c:\\users\\admin\\appdata\\roaming\\python\\python312\\site-packages (from streamlit==1.20.0) (3.1.43)\n",
      "Requirement already satisfied: pydeck>=0.1.dev5 in c:\\users\\admin\\appdata\\roaming\\python\\python312\\site-packages (from streamlit==1.20.0) (0.9.0)\n",
      "Requirement already satisfied: tornado>=6.0.3 in c:\\users\\admin\\appdata\\roaming\\python\\python312\\site-packages (from streamlit==1.20.0) (6.4)\n",
      "Requirement already satisfied: watchdog in c:\\users\\admin\\appdata\\roaming\\python\\python312\\site-packages (from streamlit==1.20.0) (4.0.0)\n",
      "Requirement already satisfied: entrypoints in c:\\users\\admin\\appdata\\roaming\\python\\python312\\site-packages (from altair<5,>=3.2.0->streamlit==1.20.0) (0.4)\n",
      "Requirement already satisfied: jinja2 in c:\\users\\admin\\appdata\\roaming\\python\\python312\\site-packages (from altair<5,>=3.2.0->streamlit==1.20.0) (3.1.3)\n",
      "Requirement already satisfied: jsonschema>=3.0 in c:\\users\\admin\\appdata\\roaming\\python\\python312\\site-packages (from altair<5,>=3.2.0->streamlit==1.20.0) (4.22.0)\n",
      "Requirement already satisfied: toolz in c:\\users\\admin\\appdata\\roaming\\python\\python312\\site-packages (from altair<5,>=3.2.0->streamlit==1.20.0) (0.12.1)\n",
      "Requirement already satisfied: colorama in c:\\python312\\lib\\site-packages (from click>=7.0->streamlit==1.20.0) (0.4.6)\n",
      "Requirement already satisfied: gitdb<5,>=4.0.1 in c:\\users\\admin\\appdata\\roaming\\python\\python312\\site-packages (from gitpython!=3.1.19->streamlit==1.20.0) (4.0.11)\n",
      "Requirement already satisfied: zipp>=0.5 in c:\\users\\admin\\appdata\\roaming\\python\\python312\\site-packages (from importlib-metadata>=1.4->streamlit==1.20.0) (3.18.1)\n",
      "Requirement already satisfied: pytz>=2020.1 in c:\\python312\\lib\\site-packages (from pandas<2,>=0.25->streamlit==1.20.0) (2024.1)\n",
      "Requirement already satisfied: six>=1.5 in c:\\python312\\lib\\site-packages (from python-dateutil->streamlit==1.20.0) (1.16.0)\n",
      "Requirement already satisfied: charset-normalizer<4,>=2 in c:\\python312\\lib\\site-packages (from requests>=2.4->streamlit==1.20.0) (3.3.2)\n",
      "Requirement already satisfied: idna<4,>=2.5 in c:\\python312\\lib\\site-packages (from requests>=2.4->streamlit==1.20.0) (3.7)\n",
      "Requirement already satisfied: urllib3<3,>=1.21.1 in c:\\python312\\lib\\site-packages (from requests>=2.4->streamlit==1.20.0) (2.2.1)\n",
      "Requirement already satisfied: certifi>=2017.4.17 in c:\\python312\\lib\\site-packages (from requests>=2.4->streamlit==1.20.0) (2024.2.2)\n",
      "Requirement already satisfied: markdown-it-py>=2.2.0 in c:\\users\\admin\\appdata\\roaming\\python\\python312\\site-packages (from rich>=10.11.0->streamlit==1.20.0) (3.0.0)\n",
      "Requirement already satisfied: pygments<3.0.0,>=2.13.0 in c:\\users\\admin\\appdata\\roaming\\python\\python312\\site-packages (from rich>=10.11.0->streamlit==1.20.0) (2.18.0)\n",
      "Requirement already satisfied: tzdata in c:\\python312\\lib\\site-packages (from tzlocal>=1.1->streamlit==1.20.0) (2024.1)\n",
      "Requirement already satisfied: smmap<6,>=3.0.1 in c:\\users\\admin\\appdata\\roaming\\python\\python312\\site-packages (from gitdb<5,>=4.0.1->gitpython!=3.1.19->streamlit==1.20.0) (5.0.1)\n",
      "Requirement already satisfied: MarkupSafe>=2.0 in c:\\users\\admin\\appdata\\roaming\\python\\python312\\site-packages (from jinja2->altair<5,>=3.2.0->streamlit==1.20.0) (2.1.5)\n",
      "Requirement already satisfied: attrs>=22.2.0 in c:\\python312\\lib\\site-packages (from jsonschema>=3.0->altair<5,>=3.2.0->streamlit==1.20.0) (23.2.0)\n",
      "Requirement already satisfied: jsonschema-specifications>=2023.03.6 in c:\\users\\admin\\appdata\\roaming\\python\\python312\\site-packages (from jsonschema>=3.0->altair<5,>=3.2.0->streamlit==1.20.0) (2023.12.1)\n",
      "Requirement already satisfied: referencing>=0.28.4 in c:\\users\\admin\\appdata\\roaming\\python\\python312\\site-packages (from jsonschema>=3.0->altair<5,>=3.2.0->streamlit==1.20.0) (0.35.1)\n",
      "Requirement already satisfied: rpds-py>=0.7.1 in c:\\users\\admin\\appdata\\roaming\\python\\python312\\site-packages (from jsonschema>=3.0->altair<5,>=3.2.0->streamlit==1.20.0) (0.18.0)\n",
      "Requirement already satisfied: mdurl~=0.1 in c:\\users\\admin\\appdata\\roaming\\python\\python312\\site-packages (from markdown-it-py>=2.2.0->rich>=10.11.0->streamlit==1.20.0) (0.1.2)\n",
      "Requirement already satisfied: pyngrok==4.1.1 in c:\\python312\\lib\\site-packages (4.1.1)\n",
      "Requirement already satisfied: future in c:\\python312\\lib\\site-packages (from pyngrok==4.1.1) (1.0.0)\n",
      "Requirement already satisfied: PyYAML in c:\\python312\\lib\\site-packages (from pyngrok==4.1.1) (6.0.1)\n"
     ]
    }
   ],
   "source": [
    "!pip install streamlit==1.20.0 \n",
    "!pip install pyngrok==4.1.1 \n",
    "\n",
    "# Streamlit、およびngrokをインポートします。\n",
    "import streamlit as st\n",
    "from pyngrok import ngrok\n"
   ]
  },
  {
   "cell_type": "code",
   "execution_count": 18,
   "metadata": {},
   "outputs": [
    {
     "name": "stdout",
     "output_type": "stream",
     "text": [
      "Writing app.py\n"
     ]
    }
   ],
   "source": [
    "%%writefile app.py\n",
    "# 以下を「app.py」に書き込み\n",
    "import streamlit as st\n",
    "import numpy as np\n",
    "import pandas as pd\n",
    "\n",
    "# ---------- スライダー ----------\n",
    "st.title(\"st.slider()\")\n",
    "x = st.slider(\"xの値\")\n",
    "st.write(str(x) + \"の2乗は\" + str(x**2))\n",
    "\n",
    "# ---------- ボタン ----------\n",
    "st.title(\"st.button()\")\n",
    "if st.button(\"Morning?\"):\n",
    "    st.write(\"Good morinig!\")\n",
    "else:\n",
    "    st.write(\"Helllo!\")\n",
    "\n",
    "# ---------- テキスト入力 ----------\n",
    "st.title(\"st.text_input()\")\n",
    "st.text_input(\"お住まいの国\", key=\"country\")\n",
    "st.session_state.country  # keyでアクセス\n",
    "\n",
    "# ---------- チェックボックス ----------\n",
    "st.title(\"st.checkbox()\")\n",
    "is_agree = st.checkbox(\"同意しますか？\")\n",
    "if is_agree:\n",
    "    st.write(\"了解です！\")\n",
    "else:\n",
    "    st.write(\"残念です！\")\n",
    "\n",
    "# ---------- セレクトボックス ----------\n",
    "st.title(\"st.selectbox()\")\n",
    "df_select = pd.DataFrame({\n",
    "    \"col1\": [11, 12, 13, 14],\n",
    "    \"col2\": [111, 112, 113, 114]\n",
    "    })\n",
    "selected = st.selectbox(\n",
    "    \"どの番号を選びますか？\",\n",
    "     df_select[\"col2\"])\n",
    "st.write(\"あなたは\" + str(selected) + \"番を選びました！\")\n",
    "\n",
    "# ---------- サイドバー ----------\n",
    "st.sidebar.title(\"st.sidebar\")\n",
    "\n",
    "y = st.sidebar.slider(\"yの値\")\n",
    "st.sidebar.write(str(y) + \"の2倍は\" + str(y*2))\n",
    "\n",
    "df_side = pd.DataFrame({\n",
    "    \"animal\": [\"犬\", \"猫\", \"兎\", \"象\", \"蛙\"],\n",
    "    \"color\": [\"赤\", \"青\", \"黄\", \"白\", \"黒\"]\n",
    "    })\n",
    "selected_side = st.sidebar.selectbox(\n",
    "    \"どの動物を選びますか？\",\n",
    "    df_side[\"animal\"]\n",
    "    )\n",
    "st.sidebar.write(\"あなたは\" + str(selected_side) + \"を選びました！\")\n"
   ]
  },
  {
   "cell_type": "code",
   "execution_count": 15,
   "metadata": {},
   "outputs": [
    {
     "name": "stdout",
     "output_type": "stream",
     "text": [
      "Authtoken saved to configuration file: C:\\Users\\admin\\AppData\\Local/ngrok/ngrok.yml\n"
     ]
    }
   ],
   "source": [
    "!ngrok authtoken 2g3UbkT39hqhSciFe5FKRrA9n0T_6WtPdwqS2rPRbyktvwpaB"
   ]
  },
  {
   "cell_type": "code",
   "execution_count": 22,
   "metadata": {},
   "outputs": [
    {
     "ename": "OSError",
     "evalue": "Background processes not supported.",
     "output_type": "error",
     "traceback": [
      "\u001b[1;31m---------------------------------------------------------------------------\u001b[0m",
      "\u001b[1;31mOSError\u001b[0m                                   Traceback (most recent call last)",
      "Cell \u001b[1;32mIn[22], line 1\u001b[0m\n\u001b[1;32m----> 1\u001b[0m \u001b[43mget_ipython\u001b[49m\u001b[43m(\u001b[49m\u001b[43m)\u001b[49m\u001b[38;5;241;43m.\u001b[39;49m\u001b[43msystem\u001b[49m\u001b[43m(\u001b[49m\u001b[38;5;124;43m'\u001b[39;49m\u001b[38;5;124;43mstreamlit run app.py &>/dev/null&\u001b[39;49m\u001b[38;5;124;43m'\u001b[39;49m\u001b[43m)\u001b[49m\n",
      "File \u001b[1;32m~\\AppData\\Roaming\\Python\\Python312\\site-packages\\ipykernel\\zmqshell.py:641\u001b[0m, in \u001b[0;36mZMQInteractiveShell.system_piped\u001b[1;34m(self, cmd)\u001b[0m\n\u001b[0;32m    634\u001b[0m \u001b[38;5;28;01mif\u001b[39;00m cmd\u001b[38;5;241m.\u001b[39mrstrip()\u001b[38;5;241m.\u001b[39mendswith(\u001b[38;5;124m\"\u001b[39m\u001b[38;5;124m&\u001b[39m\u001b[38;5;124m\"\u001b[39m):\n\u001b[0;32m    635\u001b[0m     \u001b[38;5;66;03m# this is *far* from a rigorous test\u001b[39;00m\n\u001b[0;32m    636\u001b[0m     \u001b[38;5;66;03m# We do not support backgrounding processes because we either use\u001b[39;00m\n\u001b[0;32m    637\u001b[0m     \u001b[38;5;66;03m# pexpect or pipes to read from.  Users can always just call\u001b[39;00m\n\u001b[0;32m    638\u001b[0m     \u001b[38;5;66;03m# os.system() or use ip.system=ip.system_raw\u001b[39;00m\n\u001b[0;32m    639\u001b[0m     \u001b[38;5;66;03m# if they really want a background process.\u001b[39;00m\n\u001b[0;32m    640\u001b[0m     msg \u001b[38;5;241m=\u001b[39m \u001b[38;5;124m\"\u001b[39m\u001b[38;5;124mBackground processes not supported.\u001b[39m\u001b[38;5;124m\"\u001b[39m\n\u001b[1;32m--> 641\u001b[0m     \u001b[38;5;28;01mraise\u001b[39;00m \u001b[38;5;167;01mOSError\u001b[39;00m(msg)\n\u001b[0;32m    643\u001b[0m \u001b[38;5;66;03m# we explicitly do NOT return the subprocess status code, because\u001b[39;00m\n\u001b[0;32m    644\u001b[0m \u001b[38;5;66;03m# a non-None value would trigger :func:`sys.displayhook` calls.\u001b[39;00m\n\u001b[0;32m    645\u001b[0m \u001b[38;5;66;03m# Instead, we store the exit_code in user_ns.\u001b[39;00m\n\u001b[0;32m    646\u001b[0m \u001b[38;5;66;03m# Also, protect system call from UNC paths on Windows here too\u001b[39;00m\n\u001b[0;32m    647\u001b[0m \u001b[38;5;66;03m# as is done in InteractiveShell.system_raw\u001b[39;00m\n\u001b[0;32m    648\u001b[0m \u001b[38;5;28;01mif\u001b[39;00m sys\u001b[38;5;241m.\u001b[39mplatform \u001b[38;5;241m==\u001b[39m \u001b[38;5;124m\"\u001b[39m\u001b[38;5;124mwin32\u001b[39m\u001b[38;5;124m\"\u001b[39m:\n",
      "\u001b[1;31mOSError\u001b[0m: Background processes not supported."
     ]
    }
   ],
   "source": [
    "!streamlit run app.py &>/dev/null& "
   ]
  },
  {
   "cell_type": "code",
   "execution_count": 12,
   "metadata": {},
   "outputs": [],
   "source": [
    "import streamlit as st\n",
    "from pyngrok import ngrok"
   ]
  },
  {
   "cell_type": "code",
   "execution_count": 16,
   "metadata": {},
   "outputs": [
    {
     "name": "stderr",
     "output_type": "stream",
     "text": [
      "2024-05-06 01:21:17.914 INFO    pyngrok.process: ngrok process starting: 16024\n",
      "2024-05-06 01:21:18.089 INFO    pyngrok.process: t=2024-05-06T01:21:18+0900 lvl=info msg=\"no configuration paths supplied\"\n",
      "\n",
      "2024-05-06 01:21:18.090 INFO    pyngrok.process: t=2024-05-06T01:21:18+0900 lvl=info msg=\"using configuration at default config path\" path=C:\\\\Users\\\\admin/.ngrok2/ngrok.yml\n",
      "\n",
      "2024-05-06 01:21:18.091 INFO    pyngrok.process: t=2024-05-06T01:21:18+0900 lvl=info msg=\"open config file\" path=C:\\\\Users\\\\admin\\\\.ngrok2\\\\ngrok.yml err=nil\n",
      "\n",
      "2024-05-06 01:21:18.093 INFO    pyngrok.process: t=2024-05-06T01:21:18+0900 lvl=info msg=\"starting web service\" obj=web addr=127.0.0.1:4040\n",
      "\n",
      "2024-05-06 01:21:18.791 ERROR   pyngrok.process: t=2024-05-06T01:21:18+0900 lvl=eror msg=\"failed to auth\" obj=tunnels.session err=\"Usage of ngrok requires a verified account and authtoken.\\n\\nSign up for an account: https://dashboard.ngrok.com/signup\\nInstall your authtoken: https://dashboard.ngrok.com/get-started/your-authtoken\\r\\n\\r\\nERR_NGROK_4018\\r\\n\"\n",
      "\n",
      "2024-05-06 01:21:18.792 INFO    pyngrok.process: Killing ngrok process: 16024\n"
     ]
    },
    {
     "ename": "PyngrokNgrokError",
     "evalue": "The ngrok process errored on start: Usage of ngrok requires a verified account and authtoken.\\n\\nSign up for an account: https://dashboard.ngrok.com/signup\\nInstall your authtoken: https://dashboard.ngrok.com/get-started/your-authtoken\\r\\n\\r\\nERR_NGROK_4018\\r\\n.",
     "output_type": "error",
     "traceback": [
      "\u001b[1;31m---------------------------------------------------------------------------\u001b[0m",
      "\u001b[1;31mPyngrokNgrokError\u001b[0m                         Traceback (most recent call last)",
      "Cell \u001b[1;32mIn[16], line 2\u001b[0m\n\u001b[0;32m      1\u001b[0m ngrok\u001b[38;5;241m.\u001b[39mkill()  \u001b[38;5;66;03m# プロセスの修了\u001b[39;00m\n\u001b[1;32m----> 2\u001b[0m url \u001b[38;5;241m=\u001b[39m \u001b[43mngrok\u001b[49m\u001b[38;5;241;43m.\u001b[39;49m\u001b[43mconnect\u001b[49m\u001b[43m(\u001b[49m\u001b[43mport\u001b[49m\u001b[38;5;241;43m=\u001b[39;49m\u001b[38;5;124;43m\"\u001b[39;49m\u001b[38;5;124;43m8501\u001b[39;49m\u001b[38;5;124;43m\"\u001b[39;49m\u001b[43m)\u001b[49m\n\u001b[0;32m      4\u001b[0m \u001b[38;5;66;03m# URLのhttpの部分をhttpsに変換する関数を設定します。\u001b[39;00m\n\u001b[0;32m      5\u001b[0m \u001b[38;5;28;01mdef\u001b[39;00m \u001b[38;5;21mconvert_http_to_https\u001b[39m(url):\n",
      "File \u001b[1;32mc:\\Python312\\Lib\\site-packages\\pyngrok\\ngrok.py:169\u001b[0m, in \u001b[0;36mconnect\u001b[1;34m(port, proto, name, options, pyngrok_config)\u001b[0m\n\u001b[0;32m    162\u001b[0m config \u001b[38;5;241m=\u001b[39m {\n\u001b[0;32m    163\u001b[0m     \u001b[38;5;124m\"\u001b[39m\u001b[38;5;124mname\u001b[39m\u001b[38;5;124m\"\u001b[39m: name \u001b[38;5;28;01mif\u001b[39;00m name \u001b[38;5;28;01melse\u001b[39;00m \u001b[38;5;124m\"\u001b[39m\u001b[38;5;132;01m{}\u001b[39;00m\u001b[38;5;124m-\u001b[39m\u001b[38;5;132;01m{}\u001b[39;00m\u001b[38;5;124m-\u001b[39m\u001b[38;5;132;01m{}\u001b[39;00m\u001b[38;5;124m\"\u001b[39m\u001b[38;5;241m.\u001b[39mformat(proto, port, uuid\u001b[38;5;241m.\u001b[39muuid4()),\n\u001b[0;32m    164\u001b[0m     \u001b[38;5;124m\"\u001b[39m\u001b[38;5;124maddr\u001b[39m\u001b[38;5;124m\"\u001b[39m: \u001b[38;5;28mstr\u001b[39m(port),\n\u001b[0;32m    165\u001b[0m     \u001b[38;5;124m\"\u001b[39m\u001b[38;5;124mproto\u001b[39m\u001b[38;5;124m\"\u001b[39m: proto\n\u001b[0;32m    166\u001b[0m }\n\u001b[0;32m    167\u001b[0m options\u001b[38;5;241m.\u001b[39mupdate(config)\n\u001b[1;32m--> 169\u001b[0m api_url \u001b[38;5;241m=\u001b[39m \u001b[43mget_ngrok_process\u001b[49m\u001b[43m(\u001b[49m\u001b[43mpyngrok_config\u001b[49m\u001b[43m)\u001b[49m\u001b[38;5;241m.\u001b[39mapi_url\n\u001b[0;32m    171\u001b[0m logger\u001b[38;5;241m.\u001b[39mdebug(\u001b[38;5;124m\"\u001b[39m\u001b[38;5;124mConnecting tunnel with options: \u001b[39m\u001b[38;5;132;01m{}\u001b[39;00m\u001b[38;5;124m\"\u001b[39m\u001b[38;5;241m.\u001b[39mformat(options))\n\u001b[0;32m    173\u001b[0m tunnel \u001b[38;5;241m=\u001b[39m NgrokTunnel(api_request(\u001b[38;5;124m\"\u001b[39m\u001b[38;5;132;01m{}\u001b[39;00m\u001b[38;5;124m/api/\u001b[39m\u001b[38;5;132;01m{}\u001b[39;00m\u001b[38;5;124m\"\u001b[39m\u001b[38;5;241m.\u001b[39mformat(api_url, \u001b[38;5;124m\"\u001b[39m\u001b[38;5;124mtunnels\u001b[39m\u001b[38;5;124m\"\u001b[39m), method\u001b[38;5;241m=\u001b[39m\u001b[38;5;124m\"\u001b[39m\u001b[38;5;124mPOST\u001b[39m\u001b[38;5;124m\"\u001b[39m, data\u001b[38;5;241m=\u001b[39moptions,\n\u001b[0;32m    174\u001b[0m                                  timeout\u001b[38;5;241m=\u001b[39mpyngrok_config\u001b[38;5;241m.\u001b[39mrequest_timeout))\n",
      "File \u001b[1;32mc:\\Python312\\Lib\\site-packages\\pyngrok\\ngrok.py:129\u001b[0m, in \u001b[0;36mget_ngrok_process\u001b[1;34m(pyngrok_config)\u001b[0m\n\u001b[0;32m    125\u001b[0m     pyngrok_config \u001b[38;5;241m=\u001b[39m PyngrokConfig()\n\u001b[0;32m    127\u001b[0m ensure_ngrok_installed(pyngrok_config\u001b[38;5;241m.\u001b[39mngrok_path)\n\u001b[1;32m--> 129\u001b[0m \u001b[38;5;28;01mreturn\u001b[39;00m \u001b[43mprocess\u001b[49m\u001b[38;5;241;43m.\u001b[39;49m\u001b[43mget_process\u001b[49m\u001b[43m(\u001b[49m\u001b[43mpyngrok_config\u001b[49m\u001b[43m)\u001b[49m\n",
      "File \u001b[1;32mc:\\Python312\\Lib\\site-packages\\pyngrok\\process.py:271\u001b[0m, in \u001b[0;36mget_process\u001b[1;34m(pyngrok_config)\u001b[0m\n\u001b[0;32m    268\u001b[0m     \u001b[38;5;28;01melse\u001b[39;00m:\n\u001b[0;32m    269\u001b[0m         _current_processes\u001b[38;5;241m.\u001b[39mpop(pyngrok_config\u001b[38;5;241m.\u001b[39mngrok_path, \u001b[38;5;28;01mNone\u001b[39;00m)\n\u001b[1;32m--> 271\u001b[0m \u001b[38;5;28;01mreturn\u001b[39;00m \u001b[43m_start_process\u001b[49m\u001b[43m(\u001b[49m\u001b[43mpyngrok_config\u001b[49m\u001b[43m)\u001b[49m\n",
      "File \u001b[1;32mc:\\Python312\\Lib\\site-packages\\pyngrok\\process.py:404\u001b[0m, in \u001b[0;36m_start_process\u001b[1;34m(pyngrok_config)\u001b[0m\n\u001b[0;32m    401\u001b[0m kill_process(pyngrok_config\u001b[38;5;241m.\u001b[39mngrok_path)\n\u001b[0;32m    403\u001b[0m \u001b[38;5;28;01mif\u001b[39;00m ngrok_process\u001b[38;5;241m.\u001b[39mstartup_error \u001b[38;5;129;01mis\u001b[39;00m \u001b[38;5;129;01mnot\u001b[39;00m \u001b[38;5;28;01mNone\u001b[39;00m:\n\u001b[1;32m--> 404\u001b[0m     \u001b[38;5;28;01mraise\u001b[39;00m PyngrokNgrokError(\u001b[38;5;124m\"\u001b[39m\u001b[38;5;124mThe ngrok process errored on start: \u001b[39m\u001b[38;5;132;01m{}\u001b[39;00m\u001b[38;5;124m.\u001b[39m\u001b[38;5;124m\"\u001b[39m\u001b[38;5;241m.\u001b[39mformat(ngrok_process\u001b[38;5;241m.\u001b[39mstartup_error),\n\u001b[0;32m    405\u001b[0m                             ngrok_process\u001b[38;5;241m.\u001b[39mlogs,\n\u001b[0;32m    406\u001b[0m                             ngrok_process\u001b[38;5;241m.\u001b[39mstartup_error)\n\u001b[0;32m    407\u001b[0m \u001b[38;5;28;01melse\u001b[39;00m:\n\u001b[0;32m    408\u001b[0m     \u001b[38;5;28;01mraise\u001b[39;00m PyngrokNgrokError(\u001b[38;5;124m\"\u001b[39m\u001b[38;5;124mThe ngrok process was unable to start.\u001b[39m\u001b[38;5;124m\"\u001b[39m, ngrok_process\u001b[38;5;241m.\u001b[39mlogs)\n",
      "\u001b[1;31mPyngrokNgrokError\u001b[0m: The ngrok process errored on start: Usage of ngrok requires a verified account and authtoken.\\n\\nSign up for an account: https://dashboard.ngrok.com/signup\\nInstall your authtoken: https://dashboard.ngrok.com/get-started/your-authtoken\\r\\n\\r\\nERR_NGROK_4018\\r\\n."
     ]
    }
   ],
   "source": [
    "ngrok.kill()  # プロセスの修了\n",
    "url = ngrok.connect(port=\"8501\")\n",
    "\n",
    "# URLのhttpの部分をhttpsに変換する関数を設定します。\n",
    "def convert_http_to_https(url):\n",
    "    if url.startswith(\"http://\"):\n",
    "        url = url.replace(\"http://\", \"https://\", 1)\n",
    "    return url\n",
    "\n",
    "# 変換したurlを表示し、リンク先でアプリが動作することを確認します。\n",
    "print(convert_http_to_https(url))"
   ]
  }
 ],
 "metadata": {
  "kernelspec": {
   "display_name": "Python 3",
   "language": "python",
   "name": "python3"
  },
  "language_info": {
   "codemirror_mode": {
    "name": "ipython",
    "version": 3
   },
   "file_extension": ".py",
   "mimetype": "text/x-python",
   "name": "python",
   "nbconvert_exporter": "python",
   "pygments_lexer": "ipython3",
   "version": "3.12.2"
  }
 },
 "nbformat": 4,
 "nbformat_minor": 2
}
